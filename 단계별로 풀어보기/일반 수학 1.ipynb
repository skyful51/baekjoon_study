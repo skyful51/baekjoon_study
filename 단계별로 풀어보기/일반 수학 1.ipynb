{
 "cells": [
  {
   "cell_type": "code",
   "execution_count": null,
   "metadata": {},
   "outputs": [],
   "source": [
    "'''\n",
    "2745번: 진법 변환\n",
    "\n",
    "문제\n",
    "B진법 수 N이 주어진다. 이 수를 10진법으로 바꿔 출력하는 프로그램을 작성하시오.\n",
    "10진법을 넘어가는 진법은 숫자로 표시할 수 없는 자리가 있다. 이런 경우에는 다음과 같이 알파벳 대문자를 사용한다.\n",
    "\n",
    "A: 10, B: 11, ..., F: 15, ..., Y: 34, Z: 35\n",
    "\n",
    "입력\n",
    "첫째 줄에 N과 B가 주어진다. (2 ≤ B ≤ 36)\n",
    "B진법 수 N을 10진법으로 바꾸면, 항상 10억보다 작거나 같다.\n",
    "\n",
    "출력\n",
    "첫째 줄에 B진법 수 N을 10진법으로 출력한다.\n",
    "\n",
    "예제 입력 1\n",
    "ZZZZZ 36\n",
    "\n",
    "예제 출력 1\n",
    "60466175\n",
    "'''\n",
    "\n",
    "B, N = input().split()\n",
    "N = int(N)\n",
    "decimal = 0\n",
    "\n",
    "num = list()\n",
    "for idx, digit in enumerate(B):\n",
    "    try:\n",
    "        digit = int(digit)\n",
    "    except ValueError:\n",
    "        digit = ord(digit) - 55\n",
    "    decimal += (digit*(N**(len(B)-idx-1)))\n",
    "\n",
    "print(decimal)"
   ]
  }
 ],
 "metadata": {
  "language_info": {
   "name": "python"
  },
  "orig_nbformat": 4
 },
 "nbformat": 4,
 "nbformat_minor": 2
}
